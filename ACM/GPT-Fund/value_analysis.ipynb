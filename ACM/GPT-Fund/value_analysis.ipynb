{
 "cells": [
  {
   "cell_type": "code",
   "execution_count": null,
   "metadata": {},
   "outputs": [],
   "source": [
    "from io import StringIO\n",
    "import requests\n",
    "import pandas as pd\n",
    "from bs4 import BeautifulSoup\n",
    "from  datetime import datetime , timedelta\n",
    "import bs4\n",
    "import numpy as np"
   ]
  },
  {
   "cell_type": "code",
   "execution_count": 18,
   "metadata": {},
   "outputs": [],
   "source": [
    "tick = \"IDEA\""
   ]
  },
  {
   "cell_type": "code",
   "execution_count": 19,
   "metadata": {},
   "outputs": [],
   "source": [
    "url = \"https://www.screener.in/company/\"+tick+\"/consolidated/\"\n",
    "headers = {'User-Agent': 'Mozilla/5.0 (Windows NT 10.0; Win64; x64) AppleWebKit/537.36 (KHTML, like Gecko) Chrome/58.0.3029.110 Safari/537.3'}\n",
    "response = requests.get(url, headers=headers)\n"
   ]
  },
  {
   "cell_type": "code",
   "execution_count": 20,
   "metadata": {},
   "outputs": [],
   "source": [
    "soup = BeautifulSoup(response.content, 'html.parser')\n",
    "section = soup.find('section', id='profit-loss')\n",
    "table = section.find('table', class_='data-table responsive-text-nowrap')\n",
    "thead = table.find('thead')\n",
    "tbody = table.find('tbody')\n",
    "\n",
    "headers = [header.get_text(strip=True) for header in thead.find_all('th')]\n",
    "\n",
    "data_rows = []\n",
    "for row in tbody.find_all('tr'):\n",
    "    row_data = [cell.get_text(strip=True) for cell in row.find_all(['td', 'th'])]\n",
    "    data_rows.append(row_data)\n",
    "\n",
    "df = pd.DataFrame(data_rows, columns=headers)"
   ]
  },
  {
   "cell_type": "code",
   "execution_count": 21,
   "metadata": {},
   "outputs": [
    {
     "data": {
      "text/html": [
       "<div>\n",
       "<style scoped>\n",
       "    .dataframe tbody tr th:only-of-type {\n",
       "        vertical-align: middle;\n",
       "    }\n",
       "\n",
       "    .dataframe tbody tr th {\n",
       "        vertical-align: top;\n",
       "    }\n",
       "\n",
       "    .dataframe thead th {\n",
       "        text-align: right;\n",
       "    }\n",
       "</style>\n",
       "<table border=\"1\" class=\"dataframe\">\n",
       "  <thead>\n",
       "    <tr style=\"text-align: right;\">\n",
       "      <th></th>\n",
       "      <th></th>\n",
       "      <th>Mar 2012</th>\n",
       "      <th>Mar 2013</th>\n",
       "      <th>Mar 2014</th>\n",
       "      <th>Mar 2015</th>\n",
       "      <th>Mar 2016</th>\n",
       "      <th>Mar 2017</th>\n",
       "      <th>Mar 2018</th>\n",
       "      <th>Mar 2019</th>\n",
       "      <th>Mar 2020</th>\n",
       "      <th>Mar 2021</th>\n",
       "      <th>Mar 2022</th>\n",
       "      <th>Mar 2023</th>\n",
       "      <th>TTM</th>\n",
       "    </tr>\n",
       "  </thead>\n",
       "  <tbody>\n",
       "    <tr>\n",
       "      <th>0</th>\n",
       "      <td>Sales+</td>\n",
       "      <td>19,489</td>\n",
       "      <td>22,407</td>\n",
       "      <td>26,519</td>\n",
       "      <td>31,571</td>\n",
       "      <td>35,949</td>\n",
       "      <td>35,576</td>\n",
       "      <td>28,279</td>\n",
       "      <td>37,092</td>\n",
       "      <td>44,958</td>\n",
       "      <td>41,952</td>\n",
       "      <td>38,516</td>\n",
       "      <td>42,177</td>\n",
       "      <td>42,577</td>\n",
       "    </tr>\n",
       "    <tr>\n",
       "      <th>1</th>\n",
       "      <td>Expenses+</td>\n",
       "      <td>14,440</td>\n",
       "      <td>16,439</td>\n",
       "      <td>18,237</td>\n",
       "      <td>20,771</td>\n",
       "      <td>24,281</td>\n",
       "      <td>25,348</td>\n",
       "      <td>22,224</td>\n",
       "      <td>32,976</td>\n",
       "      <td>30,042</td>\n",
       "      <td>25,006</td>\n",
       "      <td>22,547</td>\n",
       "      <td>25,424</td>\n",
       "      <td>25,579</td>\n",
       "    </tr>\n",
       "    <tr>\n",
       "      <th>2</th>\n",
       "      <td>Operating Profit</td>\n",
       "      <td>5,048</td>\n",
       "      <td>5,969</td>\n",
       "      <td>8,282</td>\n",
       "      <td>10,800</td>\n",
       "      <td>11,668</td>\n",
       "      <td>10,227</td>\n",
       "      <td>6,054</td>\n",
       "      <td>4,116</td>\n",
       "      <td>14,916</td>\n",
       "      <td>16,946</td>\n",
       "      <td>15,968</td>\n",
       "      <td>16,753</td>\n",
       "      <td>16,998</td>\n",
       "    </tr>\n",
       "    <tr>\n",
       "      <th>3</th>\n",
       "      <td>OPM %</td>\n",
       "      <td>26%</td>\n",
       "      <td>27%</td>\n",
       "      <td>31%</td>\n",
       "      <td>34%</td>\n",
       "      <td>32%</td>\n",
       "      <td>29%</td>\n",
       "      <td>21%</td>\n",
       "      <td>11%</td>\n",
       "      <td>33%</td>\n",
       "      <td>40%</td>\n",
       "      <td>41%</td>\n",
       "      <td>40%</td>\n",
       "      <td>40%</td>\n",
       "    </tr>\n",
       "    <tr>\n",
       "      <th>4</th>\n",
       "      <td>Other Income+</td>\n",
       "      <td>44</td>\n",
       "      <td>131</td>\n",
       "      <td>247</td>\n",
       "      <td>497</td>\n",
       "      <td>641</td>\n",
       "      <td>746</td>\n",
       "      <td>703</td>\n",
       "      <td>1,789</td>\n",
       "      <td>-36,964</td>\n",
       "      <td>-19,563</td>\n",
       "      <td>363</td>\n",
       "      <td>354</td>\n",
       "      <td>908</td>\n",
       "    </tr>\n",
       "    <tr>\n",
       "      <th>5</th>\n",
       "      <td>Interest</td>\n",
       "      <td>1,056</td>\n",
       "      <td>1,045</td>\n",
       "      <td>966</td>\n",
       "      <td>1,060</td>\n",
       "      <td>1,803</td>\n",
       "      <td>4,010</td>\n",
       "      <td>4,847</td>\n",
       "      <td>9,545</td>\n",
       "      <td>15,393</td>\n",
       "      <td>17,998</td>\n",
       "      <td>20,981</td>\n",
       "      <td>23,354</td>\n",
       "      <td>24,487</td>\n",
       "    </tr>\n",
       "    <tr>\n",
       "      <th>6</th>\n",
       "      <td>Depreciation</td>\n",
       "      <td>2,981</td>\n",
       "      <td>3,478</td>\n",
       "      <td>4,519</td>\n",
       "      <td>5,304</td>\n",
       "      <td>6,256</td>\n",
       "      <td>7,827</td>\n",
       "      <td>8,409</td>\n",
       "      <td>14,536</td>\n",
       "      <td>24,356</td>\n",
       "      <td>23,638</td>\n",
       "      <td>23,584</td>\n",
       "      <td>23,050</td>\n",
       "      <td>22,586</td>\n",
       "    </tr>\n",
       "    <tr>\n",
       "      <th>7</th>\n",
       "      <td>Profit before tax</td>\n",
       "      <td>1,055</td>\n",
       "      <td>1,577</td>\n",
       "      <td>3,044</td>\n",
       "      <td>4,933</td>\n",
       "      <td>4,250</td>\n",
       "      <td>-863</td>\n",
       "      <td>-6,499</td>\n",
       "      <td>-18,175</td>\n",
       "      <td>-61,797</td>\n",
       "      <td>-44,253</td>\n",
       "      <td>-28,234</td>\n",
       "      <td>-29,298</td>\n",
       "      <td>-29,168</td>\n",
       "    </tr>\n",
       "    <tr>\n",
       "      <th>8</th>\n",
       "      <td>Tax %</td>\n",
       "      <td>31%</td>\n",
       "      <td>36%</td>\n",
       "      <td>35%</td>\n",
       "      <td>35%</td>\n",
       "      <td>36%</td>\n",
       "      <td>54%</td>\n",
       "      <td>36%</td>\n",
       "      <td>20%</td>\n",
       "      <td>-20%</td>\n",
       "      <td>0%</td>\n",
       "      <td>-0%</td>\n",
       "      <td>-0%</td>\n",
       "      <td></td>\n",
       "    </tr>\n",
       "    <tr>\n",
       "      <th>9</th>\n",
       "      <td>Net Profit+</td>\n",
       "      <td>723</td>\n",
       "      <td>1,011</td>\n",
       "      <td>1,968</td>\n",
       "      <td>3,193</td>\n",
       "      <td>2,728</td>\n",
       "      <td>-400</td>\n",
       "      <td>-4,168</td>\n",
       "      <td>-14,604</td>\n",
       "      <td>-73,878</td>\n",
       "      <td>-44,233</td>\n",
       "      <td>-28,245</td>\n",
       "      <td>-29,301</td>\n",
       "      <td>-29,983</td>\n",
       "    </tr>\n",
       "    <tr>\n",
       "      <th>10</th>\n",
       "      <td>EPS in Rs</td>\n",
       "      <td>0.66</td>\n",
       "      <td>0.93</td>\n",
       "      <td>1.80</td>\n",
       "      <td>2.70</td>\n",
       "      <td>2.30</td>\n",
       "      <td>-0.34</td>\n",
       "      <td>-2.91</td>\n",
       "      <td>-5.08</td>\n",
       "      <td>-25.71</td>\n",
       "      <td>-15.39</td>\n",
       "      <td>-8.79</td>\n",
       "      <td>-6.02</td>\n",
       "      <td>-6.16</td>\n",
       "    </tr>\n",
       "    <tr>\n",
       "      <th>11</th>\n",
       "      <td>Dividend Payout %</td>\n",
       "      <td>0%</td>\n",
       "      <td>10%</td>\n",
       "      <td>7%</td>\n",
       "      <td>7%</td>\n",
       "      <td>8%</td>\n",
       "      <td>0%</td>\n",
       "      <td>0%</td>\n",
       "      <td>0%</td>\n",
       "      <td>0%</td>\n",
       "      <td>0%</td>\n",
       "      <td>0%</td>\n",
       "      <td>0%</td>\n",
       "      <td></td>\n",
       "    </tr>\n",
       "  </tbody>\n",
       "</table>\n",
       "</div>"
      ],
      "text/plain": [
       "                      Mar 2012 Mar 2013 Mar 2014 Mar 2015 Mar 2016 Mar 2017  \\\n",
       "0              Sales+   19,489   22,407   26,519   31,571   35,949   35,576   \n",
       "1           Expenses+   14,440   16,439   18,237   20,771   24,281   25,348   \n",
       "2    Operating Profit    5,048    5,969    8,282   10,800   11,668   10,227   \n",
       "3               OPM %      26%      27%      31%      34%      32%      29%   \n",
       "4       Other Income+       44      131      247      497      641      746   \n",
       "5            Interest    1,056    1,045      966    1,060    1,803    4,010   \n",
       "6        Depreciation    2,981    3,478    4,519    5,304    6,256    7,827   \n",
       "7   Profit before tax    1,055    1,577    3,044    4,933    4,250     -863   \n",
       "8               Tax %      31%      36%      35%      35%      36%      54%   \n",
       "9         Net Profit+      723    1,011    1,968    3,193    2,728     -400   \n",
       "10          EPS in Rs     0.66     0.93     1.80     2.70     2.30    -0.34   \n",
       "11  Dividend Payout %       0%      10%       7%       7%       8%       0%   \n",
       "\n",
       "   Mar 2018 Mar 2019 Mar 2020 Mar 2021 Mar 2022 Mar 2023      TTM  \n",
       "0    28,279   37,092   44,958   41,952   38,516   42,177   42,577  \n",
       "1    22,224   32,976   30,042   25,006   22,547   25,424   25,579  \n",
       "2     6,054    4,116   14,916   16,946   15,968   16,753   16,998  \n",
       "3       21%      11%      33%      40%      41%      40%      40%  \n",
       "4       703    1,789  -36,964  -19,563      363      354      908  \n",
       "5     4,847    9,545   15,393   17,998   20,981   23,354   24,487  \n",
       "6     8,409   14,536   24,356   23,638   23,584   23,050   22,586  \n",
       "7    -6,499  -18,175  -61,797  -44,253  -28,234  -29,298  -29,168  \n",
       "8       36%      20%     -20%       0%      -0%      -0%           \n",
       "9    -4,168  -14,604  -73,878  -44,233  -28,245  -29,301  -29,983  \n",
       "10    -2.91    -5.08   -25.71   -15.39    -8.79    -6.02    -6.16  \n",
       "11       0%       0%       0%       0%       0%       0%           "
      ]
     },
     "execution_count": 21,
     "metadata": {},
     "output_type": "execute_result"
    }
   ],
   "source": [
    "df"
   ]
  },
  {
   "cell_type": "code",
   "execution_count": 22,
   "metadata": {},
   "outputs": [],
   "source": [
    "dates = list(df.columns)[1:len(df.columns)-1]\n",
    "dates = [['1-03-' +date.split(' ')[1], '10-03-' +date.split(' ')[1] ] for date in dates]"
   ]
  },
  {
   "cell_type": "code",
   "execution_count": 23,
   "metadata": {},
   "outputs": [],
   "source": [
    "session = requests.session()\n",
    "headers = {\n",
    "    \"user-agent\": \"Chrome/87.0.4280.88\"\n",
    "}\n",
    "head = {\n",
    "    'user-agent': \"Mozilla/5.0 (Windows NT 10.0; Win64; x64) AppleWebKit/537.36 (KHTML, like Gecko) \"\n",
    "                  \"Chrome/87.0.4280.88 Safari/537.36 \"\n",
    "}\n",
    "\n",
    "\n",
    "def getHistoryData(company, from_date=(datetime.today().strftime(\"%d-%m-%Y\")), to_date=(datetime(datetime.today().year - 1, datetime.today().month,datetime.today().day).strftime(\"%d-%m-%Y\"))):\n",
    "    session.get(\"https://www.nseindia.com\", headers=head)\n",
    "    session.get(\"https://www.nseindia.com/get-quotes/equity?symbol=\" + company, headers=head) \n",
    "    session.get(\"https://www.nseindia.com/api/historical/cm/equity?symbol=\"+company, headers=head)\n",
    "    url = \"https://www.nseindia.com/api/historical/cm/equity?symbol=\" + company + \"&series=[%22EQ%22]&from=\" + from_date + \"&to=\" + to_date + \"&csv=true\"\n",
    "    webdata = session.get(url=url, headers=head)\n",
    "    df = pd.read_csv(StringIO(webdata.text[3:]))\n",
    "    return df\n",
    "\n",
    "\n",
    "\n",
    "price = []\n",
    "for i in dates:\n",
    "    x = getHistoryData(tick,from_date=i[0],to_date=i[1])['OPEN '].iloc[0]\n",
    "    x = str(x)\n",
    "    x = x.replace(\",\", \"\")\n",
    "    x = x.split('.')[0]\n",
    "    price.append(int(x))"
   ]
  },
  {
   "cell_type": "code",
   "execution_count": 24,
   "metadata": {},
   "outputs": [
    {
     "name": "stdout",
     "output_type": "stream",
     "text": [
      "[94, 113, 134, 149, 107, 104, 80, 32, 3, 10, 10, 6]\n"
     ]
    }
   ],
   "source": [
    "# Historical price data \n",
    "print(price)"
   ]
  },
  {
   "cell_type": "code",
   "execution_count": 25,
   "metadata": {},
   "outputs": [],
   "source": [
    "temp = list(df.loc[df[''] == 'EPS in Rs'].iloc[0])[1:]\n",
    "eps = []\n",
    "for i in temp:\n",
    "    eps.append(int(i.split(\".\")[0]) + (int(i.split(\".\")[1])/(10**len(i.split(\".\")[1]))))\n",
    "\n",
    "ttm = eps[-1]\n",
    "eps = eps[:-1]\n",
    "pe = np.array(price)/np.array(eps)"
   ]
  },
  {
   "cell_type": "code",
   "execution_count": 26,
   "metadata": {},
   "outputs": [
    {
     "name": "stdout",
     "output_type": "stream",
     "text": [
      "[0.66, 0.93, 1.8, 2.7, 2.3, 0.34, -1.0899999999999999, -4.92, -24.29, -14.61, -7.21, -5.98]\n"
     ]
    }
   ],
   "source": [
    "print(eps)"
   ]
  },
  {
   "cell_type": "code",
   "execution_count": 27,
   "metadata": {},
   "outputs": [
    {
     "name": "stdout",
     "output_type": "stream",
     "text": [
      "Unstable Earning Pattern\n"
     ]
    }
   ],
   "source": [
    "mid_point = len(eps) // 2\n",
    "eps_mean_first_half = np.mean(eps[:mid_point])\n",
    "eps_mean_second_half = np.mean(eps[mid_point:])\n",
    "\n",
    "if eps_mean_second_half > eps_mean_first_half:\n",
    "    print(\"Stable Earning Pattern\")\n",
    "else :\n",
    "    print(\"Unstable Earning Pattern\")"
   ]
  },
  {
   "cell_type": "code",
   "execution_count": 28,
   "metadata": {},
   "outputs": [
    {
     "name": "stdout",
     "output_type": "stream",
     "text": [
      "[ 1.42424242e+02  1.21505376e+02  7.44444444e+01  5.51851852e+01\n",
      "  4.65217391e+01  3.05882353e+02 -7.33944954e+01 -6.50406504e+00\n",
      " -1.23507616e-01 -6.84462697e-01 -1.38696255e+00 -1.00334448e+00]\n"
     ]
    }
   ],
   "source": [
    "print(pe)"
   ]
  },
  {
   "cell_type": "code",
   "execution_count": 29,
   "metadata": {},
   "outputs": [
    {
     "name": "stdout",
     "output_type": "stream",
     "text": [
      "(116.06649831807694+31.099924492636976j)\n"
     ]
    }
   ],
   "source": [
    "# EPS Growth Rate\n",
    "eps_gr = (eps[-1]/eps[0])**(1/len(eps))*100\n",
    "print(eps_gr)"
   ]
  },
  {
   "cell_type": "code",
   "execution_count": 30,
   "metadata": {},
   "outputs": [
    {
     "name": "stdout",
     "output_type": "stream",
     "text": [
      "55.23887522244769\n"
     ]
    }
   ],
   "source": [
    "# Intrinsic P/E or Average P/E\n",
    "pe_avg = np.average(pe)\n",
    "print(pe_avg)"
   ]
  },
  {
   "cell_type": "code",
   "execution_count": 31,
   "metadata": {},
   "outputs": [
    {
     "name": "stdout",
     "output_type": "stream",
     "text": [
      "nan\n"
     ]
    },
    {
     "name": "stderr",
     "output_type": "stream",
     "text": [
      "/var/folders/yl/5879yj014q11kbqcnjh_rd0m0000gn/T/ipykernel_1001/3082972927.py:2: RuntimeWarning: invalid value encountered in double_scalars\n",
      "  pe_gr = (pe[-1]/pe[0])**(1/len(pe))*100\n"
     ]
    }
   ],
   "source": [
    "# P/E Growth Rate\n",
    "pe_gr = (pe[-1]/pe[0])**(1/len(pe))*100\n",
    "print(pe_gr)"
   ]
  },
  {
   "cell_type": "code",
   "execution_count": 32,
   "metadata": {},
   "outputs": [
    {
     "data": {
      "text/plain": [
       "-322.5950312990945"
      ]
     },
     "execution_count": 32,
     "metadata": {},
     "output_type": "execute_result"
    }
   ],
   "source": [
    "# Intrinsic Value\n",
    "pe_avg * ttm"
   ]
  },
  {
   "cell_type": "code",
   "execution_count": null,
   "metadata": {},
   "outputs": [],
   "source": []
  }
 ],
 "metadata": {
  "kernelspec": {
   "display_name": "base",
   "language": "python",
   "name": "python3"
  },
  "language_info": {
   "codemirror_mode": {
    "name": "ipython",
    "version": 3
   },
   "file_extension": ".py",
   "mimetype": "text/x-python",
   "name": "python",
   "nbconvert_exporter": "python",
   "pygments_lexer": "ipython3",
   "version": "3.11.4"
  }
 },
 "nbformat": 4,
 "nbformat_minor": 2
}
