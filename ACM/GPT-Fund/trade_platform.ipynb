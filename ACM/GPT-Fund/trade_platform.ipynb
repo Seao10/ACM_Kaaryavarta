{
 "cells": [
  {
   "cell_type": "code",
   "execution_count": 63,
   "metadata": {},
   "outputs": [],
   "source": [
    "import requests\n",
    "from bs4 import BeautifulSoup\n",
    "import time\n",
    "import copy"
   ]
  },
  {
   "cell_type": "code",
   "execution_count": 64,
   "metadata": {},
   "outputs": [],
   "source": [
    "amount = 100000\n",
    "investment = 0\n",
    "portfolio = {}\n",
    "history = {}\n",
    "transaction_cost = 0.0075"
   ]
  },
  {
   "cell_type": "code",
   "execution_count": 65,
   "metadata": {},
   "outputs": [],
   "source": [
    "def get_price(ticker):\n",
    "    url = f'https://www.tickertape.in/stocks/{ticker}'\n",
    "    response = requests.get(url)\n",
    "    soup = BeautifulSoup(response.text, 'html.parser')\n",
    "    class1 = \"jsx-3168773259 current-price typography-h1 text-primary\"\n",
    "    price = soup.find(class_ = class1).text\n",
    "    price = price.replace(\",\", \"\")\n",
    "    price = price.split('.')\n",
    "    ret = int(price[0]) + int(price[1])/(10**len(price[1]))\n",
    "    return ret"
   ]
  },
  {
   "cell_type": "code",
   "execution_count": 66,
   "metadata": {},
   "outputs": [],
   "source": [
    "def buy(ticker, quantity):\n",
    "    price = get_price(ticker)\n",
    "    global amount, investment, history\n",
    "    if amount > price*quantity*(1+transaction_cost):\n",
    "        amount = amount - price*quantity - transaction_cost*price*quantity\n",
    "        portfolio[ticker] = portfolio.get(ticker, 0) + quantity\n",
    "        history[ticker+\"+\"] = price*quantity\n",
    "        investment = price*quantity + investment"
   ]
  },
  {
   "cell_type": "code",
   "execution_count": 67,
   "metadata": {},
   "outputs": [],
   "source": [
    "def sell(ticker, quantity):\n",
    "    global amount, investment\n",
    "    price = get_price(ticker)\n",
    "    amount = amount + price*quantity*(1-transaction_cost)\n",
    "    portfolio[ticker] = portfolio[ticker] - quantity\n",
    "    history[ticker+\"-\"] = price*quantity\n",
    "    investment = investment - price*quantity"
   ]
  },
  {
   "cell_type": "code",
   "execution_count": 68,
   "metadata": {},
   "outputs": [],
   "source": [
    "def refresh():\n",
    "    global investment, portfolio\n",
    "    x = 0\n",
    "    for i in portfolio:\n",
    "        x = x + get_price(i)*portfolio[i]\n",
    "    investment = x"
   ]
  },
  {
   "cell_type": "code",
   "execution_count": 69,
   "metadata": {},
   "outputs": [
    {
     "ename": "KeyboardInterrupt",
     "evalue": "",
     "output_type": "error",
     "traceback": [
      "\u001b[0;31m---------------------------------------------------------------------------\u001b[0m",
      "\u001b[0;31mKeyboardInterrupt\u001b[0m                         Traceback (most recent call last)",
      "Input \u001b[0;32mIn [69]\u001b[0m, in \u001b[0;36m<cell line: 1>\u001b[0;34m()\u001b[0m\n\u001b[1;32m      1\u001b[0m \u001b[38;5;28;01mwhile\u001b[39;00m \u001b[38;5;28;01mTrue\u001b[39;00m:\n\u001b[0;32m----> 2\u001b[0m     \u001b[43mtime\u001b[49m\u001b[38;5;241;43m.\u001b[39;49m\u001b[43msleep\u001b[49m\u001b[43m(\u001b[49m\u001b[38;5;241;43m60\u001b[39;49m\u001b[43m)\u001b[49m\n",
      "\u001b[0;31mKeyboardInterrupt\u001b[0m: "
     ]
    }
   ],
   "source": [
    "while True:\n",
    "    time.sleep(60)"
   ]
  },
  {
   "cell_type": "code",
   "execution_count": 70,
   "metadata": {},
   "outputs": [],
   "source": [
    "buy(\"ABB\", 1)"
   ]
  },
  {
   "cell_type": "code",
   "execution_count": null,
   "metadata": {},
   "outputs": [],
   "source": []
  }
 ],
 "metadata": {
  "kernelspec": {
   "display_name": "base",
   "language": "python",
   "name": "python3"
  },
  "language_info": {
   "codemirror_mode": {
    "name": "ipython",
    "version": 3
   },
   "file_extension": ".py",
   "mimetype": "text/x-python",
   "name": "python",
   "nbconvert_exporter": "python",
   "pygments_lexer": "ipython3",
   "version": "3.10.2"
  }
 },
 "nbformat": 4,
 "nbformat_minor": 2
}
