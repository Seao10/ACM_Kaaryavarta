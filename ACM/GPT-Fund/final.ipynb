{
 "cells": [
  {
   "cell_type": "code",
   "execution_count": 1,
   "metadata": {},
   "outputs": [],
   "source": [
    "import pickle\n",
    "with open('news_.pkl', 'rb') as f:\n",
    "    loaded_list = pickle.load(f)"
   ]
  },
  {
   "cell_type": "code",
   "execution_count": 4,
   "metadata": {},
   "outputs": [
    {
     "name": "stdout",
     "output_type": "stream",
     "text": [
      " Summary: Eicher Motors reported a 34% increase in net profit for the Q3 period, beating analyst estimates. The company's revenue also grew by 27%. Eicher Motors is well-positioned to benefit from the growing demand for motorcycles and commercial vehicles in India, as well as its strong brand reputation. The company has a diversified product portfolio, including Royal Enfield, the leading premium motorcycle brand in India.\n",
      "\n",
      "Risk Measure: Low to Moderate. The risk level is low to moderate due to the solid financial performance of Eicher Motors and its strong brand reputation. However, there are potential risks associated with the competitive nature of the automotive industry and macroeconomic factors such as inflation and currency fluctuations.\n",
      "\n",
      "Recommendation: Buy. Given the strong financial performance and diversified product portfolio, Eicher Motors is a good investment opportunity for those looking to diversify their portfolio. The company's focus on innovation and sustainability, as well as its commitment to expanding into new markets, also make it an attractive investment for the long term.\n",
      "\n",
      "Rating: 8/10. Eicher Motors has a strong financial performance, diversified product portfolio, and a solid brand reputation. However, the competitive nature of the automotive industry and macroeconomic factors could pose potential risks. Overall, Eicher Motors is a well-positioned company for long-term success, and a good investment opportunity for those looking to diversify their portfolio.\n"
     ]
    }
   ],
   "source": [
    "print(loaded_list[30])"
   ]
  },
  {
   "cell_type": "code",
   "execution_count": null,
   "metadata": {},
   "outputs": [],
   "source": []
  }
 ],
 "metadata": {
  "kernelspec": {
   "display_name": "base",
   "language": "python",
   "name": "python3"
  },
  "language_info": {
   "codemirror_mode": {
    "name": "ipython",
    "version": 3
   },
   "file_extension": ".py",
   "mimetype": "text/x-python",
   "name": "python",
   "nbconvert_exporter": "python",
   "pygments_lexer": "ipython3",
   "version": "3.11.4"
  }
 },
 "nbformat": 4,
 "nbformat_minor": 2
}
